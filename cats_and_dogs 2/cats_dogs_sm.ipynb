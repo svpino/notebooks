{
 "cells": [
  {
   "cell_type": "code",
   "execution_count": null,
   "metadata": {},
   "outputs": [],
   "source": [
    "import sagemaker\n",
    "from sagemaker.tensorflow import TensorFlow\n",
    "\n",
    "hyperparameters = {\n",
    "    \"epochs\": 10, \n",
    "    \"batch_size\": 128, \n",
    "    \"learning_rate\": 0.001\n",
    "}\n",
    "\n",
    "# Our training and validation datasets live in S3,\n",
    "# and here are the location of each one of them.\n",
    "TRAINING_IMAGES_PATH = \"s3://sample-machine-learning-notebooks/cats_and_dogs/train\"\n",
    "VALIDATION_IMAGES_PATH = \"s3://sample-machine-learning-notebooks/cats_and_dogs/validation\"\n",
    "\n",
    "# When SageMaker finishes training our model, it will\n",
    "# store a copy of it in this location so it can later be\n",
    "# served from an endpoint.\n",
    "OUTPUT_MODEL_PATH = \"s3://sample-machine-learning-notebooks/model\"\n"
   ]
  },
  {
   "cell_type": "code",
   "execution_count": null,
   "metadata": {},
   "outputs": [],
   "source": [
    "# We can now fit our estimator. SageMaker will set up the\n",
    "# appropriate environment (unless the instance type is set \n",
    "# to 'local'), download the training docker image, and run\n",
    "# our training process by executing our script.\n",
    "estimator.fit({\n",
    "    \"training\": TRAINING_IMAGES_PATH,\n",
    "    \"validation\": VALIDATION_IMAGES_PATH\n",
    "})"
   ]
  },
  {
   "cell_type": "code",
   "execution_count": null,
   "metadata": {},
   "outputs": [],
   "source": [
    "# Let's now create an estimator to give SageMaker all\n",
    "# the necessary information to run our training process.\n",
    "\n",
    "estimator = TensorFlow(\n",
    "    entry_point=\"cats_and_dogs_sm_train.py\", \n",
    "    role=sagemaker.get_execution_role(),\n",
    "    hyperparameters=hyperparameters,\n",
    "    model_dir=OUTPUT_MODEL_PATH,\n",
    "    train_instance_type=\"local_gpu\",\n",
    "    train_instance_count=1, \n",
    "    py_version=\"py3\",\n",
    "    framework_version=\"2.1\",\n",
    "    script_mode=True\n",
    ")"
   ]
  },
  {
   "cell_type": "code",
   "execution_count": null,
   "metadata": {},
   "outputs": [],
   "source": [
    "predictor = estimator.deploy(\n",
    "    initial_instance_count=1, \n",
    "    #instance_type='ml.c5.xlarge',\n",
    "    instance_type=\"local\",\n",
    "    endpoint_type='tensorflow-serving'\n",
    ")"
   ]
  },
  {
   "cell_type": "code",
   "execution_count": null,
   "metadata": {},
   "outputs": [],
   "source": []
  }
 ],
 "metadata": {
  "kernelspec": {
   "display_name": "conda_tensorflow_p36",
   "language": "python",
   "name": "conda_tensorflow_p36"
  },
  "language_info": {
   "codemirror_mode": {
    "name": "ipython",
    "version": 3
   },
   "file_extension": ".py",
   "mimetype": "text/x-python",
   "name": "python",
   "nbconvert_exporter": "python",
   "pygments_lexer": "ipython3",
   "version": "3.6.6"
  }
 },
 "nbformat": 4,
 "nbformat_minor": 4
}